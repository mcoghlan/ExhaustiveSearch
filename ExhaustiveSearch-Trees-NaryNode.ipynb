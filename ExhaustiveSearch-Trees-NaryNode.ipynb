{
 "cells": [
  {
   "cell_type": "code",
   "execution_count": 9,
   "id": "1e14bd5c",
   "metadata": {},
   "outputs": [],
   "source": [
    "def find_value(node=\"\", target=\"\"):\n",
    "     \"\"\"that takes a node and target value as parameters.\n",
    "     Method searchs the node’s subtree for the target and prints a string \n",
    "     indicating whether it found the value.\"\"\"\n",
    "     result = node.find_node(target)\n",
    "     if result == \"found\": print(\"Found \" + target)\n",
    "     else: print(\"Value \" + target + \" not found\")\n",
    "\n",
    "class NaryNode:\n",
    "\n",
    "    # result += self.left_child.__str__(level + 1)\n",
    "    indent = \"  \"\n",
    "    result=\"\"\n",
    "\n",
    "    def find_node(self, target=\"\"): \n",
    "        \"\"\" exhaustively search the tree for a target value \"\"\"\n",
    "\n",
    "        working_target = target\n",
    "        result = \"\"\n",
    "        try_target=\"\"\n",
    "        # print(\"\\nNode is: \" + self.value + \" and target to be found is: \" + working_target)\n",
    "       \n",
    "        if (self != None) or (self.children != None): \n",
    "\n",
    "            if (self.value == working_target): \n",
    "                #or (self.left_child.value == working_target) or (self.right_child.value == working_target): \n",
    "                #print(\"Node value is: \"+ self.value + \" and left_child.value = \" + self.left_child.value)\n",
    "                #print(\"Target is still: \" + working_target)\n",
    "                result = \"found\"\n",
    "                return result\n",
    "                                         \n",
    "\n",
    "            for child in self.children: \n",
    "                result = child.find_node(working_target)\n",
    "                if result == \"found\": \n",
    "                    return result\n",
    "        \n",
    "            result = \"Value \" + working_target + \" not found\"\n",
    "    \n",
    "        return result\n",
    "\n",
    "    \n",
    "    def add_child(self, child):\n",
    "        self.children.append(child)        \n",
    "    \n",
    "    def __str__(self, level=0):\n",
    "        '''Recursively create a string representation of this node's subtree.\n",
    "        Display this value indented, followed by the child values indented one more level.\n",
    "        End in a newline.'''\n",
    "\n",
    "        result = \"\"\n",
    "\n",
    "        result = level * NaryNode.indent + f'{self.value}:\\n'\n",
    "        for child in self.children:\n",
    "            result += child.__str__(level + 1)\n",
    "        return result\n",
    "                \n",
    "\n",
    "    def __init__(self, v=\"\", children=[]):\n",
    "        self.value = v\n",
    "        self.children = []\n",
    "        return\n"
   ]
  },
  {
   "cell_type": "code",
   "execution_count": 10,
   "id": "5a9fcdc7",
   "metadata": {},
   "outputs": [],
   "source": [
    "root = NaryNode('Root')\n",
    "a = NaryNode('A')\n",
    "b = NaryNode('B')\n",
    "c = NaryNode('C')\n",
    "d = NaryNode('D')\n",
    "e = NaryNode('E')\n",
    "f = NaryNode('F')\n",
    "g = NaryNode('G')\n",
    "h = NaryNode('H')\n",
    "i = NaryNode('I')\n",
    "\n",
    "root.add_child(a)\n",
    "root.add_child(b)\n",
    "root.add_child(c)\n",
    "a.add_child(d)\n",
    "a.add_child(e)\n",
    "c.add_child(f)\n",
    "d.add_child(g)\n",
    "f.add_child(h)\n",
    "f.add_child(i)"
   ]
  },
  {
   "cell_type": "code",
   "execution_count": 11,
   "id": "67a9e8d4",
   "metadata": {},
   "outputs": [
    {
     "name": "stdout",
     "output_type": "stream",
     "text": [
      "Root:\n",
      "  A:\n",
      "    D:\n",
      "      G:\n",
      "    E:\n",
      "  B:\n",
      "  C:\n",
      "    F:\n",
      "      H:\n",
      "      I:\n",
      "\n",
      "A:\n",
      "  D:\n",
      "    G:\n",
      "  E:\n",
      "\n"
     ]
    }
   ],
   "source": [
    "print(root)\n",
    "print(a)"
   ]
  },
  {
   "cell_type": "code",
   "execution_count": 12,
   "id": "9158918e",
   "metadata": {},
   "outputs": [
    {
     "name": "stdout",
     "output_type": "stream",
     "text": [
      "Found Root\n",
      "Found E\n",
      "Found F\n",
      "Value Q not found\n",
      "Found F\n"
     ]
    }
   ],
   "source": [
    "# Find some values.\n",
    "find_value(root, 'Root')\n",
    "find_value(root, 'E')\n",
    "find_value(root, 'F')\n",
    "find_value(root, 'Q')\n",
    "\n",
    "# Find F in the B subtree.\n",
    "find_value(c, 'F')"
   ]
  }
 ],
 "metadata": {
  "kernelspec": {
   "display_name": "Python 3 (ipykernel)",
   "language": "python",
   "name": "python3"
  },
  "language_info": {
   "codemirror_mode": {
    "name": "ipython",
    "version": 3
   },
   "file_extension": ".py",
   "mimetype": "text/x-python",
   "name": "python",
   "nbconvert_exporter": "python",
   "pygments_lexer": "ipython3",
   "version": "3.9.15"
  },
  "vscode": {
   "interpreter": {
    "hash": "10ca8bccea1a17e4ca7b4220bf3091979321323de79aed03d0398ca6025a9d7e"
   }
  }
 },
 "nbformat": 4,
 "nbformat_minor": 5
}
